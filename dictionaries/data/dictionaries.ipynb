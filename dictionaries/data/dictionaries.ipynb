{
 "cells": [
  {
   "cell_type": "markdown",
   "metadata": {},
   "source": [
    "# Dictionaries\n",
    "\n",
    "This will be a very short introduction on a new data structure, called a dictionary. A dictionary, like a list, can be used to store multiple elements together. The main difference with a list is how you access and modify these elements. There are quite a few other important differences, but we'll get into those when we cover dictionaries in detail in a few weeks. The goal here is just to introduce the absolute basics, so you know how to use dictionary in the upcoming machine learning notebooks.\n",
    "\n",
    "## Lists vs dictionaries\n",
    "\n",
    "Below is a simple example using a list to store 3 numbers. This example is intended to let you easily compare the list with the dictionary, so you won't actually need to write any code yourself here.\n",
    "\n",
    "Run the cell and check you understand the printed output and the error produced, including why it occurs.\n"
   ]
  },
  {
   "cell_type": "code",
   "execution_count": null,
   "metadata": {},
   "outputs": [],
   "source": [
    "# Define a list with 3 elements\n",
    "l = [2, 5, 4]\n",
    "\n",
    "# Retrieve the first element\n",
    "print(l[0])\n",
    "\n",
    "# Modify the second element\n",
    "l[1] = 9\n",
    "\n",
    "# Print the whole list\n",
    "print(l)\n",
    "\n",
    "# Trying to retrieve the fourth element will give an \"index error\"\n",
    "print(l[3])"
   ]
  },
  {
   "cell_type": "markdown",
   "metadata": {},
   "source": [
    "\n",
    "The two main differences when using a dictionary are:\n",
    "\n",
    "* Dictionaries are created using `{}` curly brackets instead of `[]` square brackets.\n",
    "\n",
    "* List are indexed based on the *place an element is the list*, while dictionaries use a **key** to insert or find back elements. When you insert an element with a specific key, you can use that same key to retrieve the element later. A key does not have to be a number, like the list index, but can also be a **string**, allowing you to use *words* as the keys.\n",
    "\n",
    "Take a look at the example code below. Run the code and check the output. Make sure you understand all of the steps here, before moving on.\n"
   ]
  },
  {
   "cell_type": "code",
   "execution_count": null,
   "metadata": {},
   "outputs": [],
   "source": [
    "# Define an empy dictionary\n",
    "d = {}\n",
    "\n",
    "# Add the value 5 using the key 'hello'\n",
    "d['hello'] = 5\n",
    "\n",
    "# Add the value 9 using the key 'world'\n",
    "d['world'] = 9\n",
    "\n",
    "# Retrieve the value for the key 'hello'\n",
    "print(d['hello'])\n",
    "\n",
    "# Print the whole dictionary\n",
    "print(d)\n",
    "\n",
    "# Alternatively, define the dictionary in one go\n",
    "d = {'hello': 5, 'world': 9}\n",
    "\n",
    "print(d)\n",
    "\n",
    "# Trying to retrieve the value for the key 'foo' will result in a \"key error\"\n",
    "print(d['foo'])\n"
   ]
  },
  {
   "cell_type": "markdown",
   "metadata": {},
   "source": [
    "\n",
    "As you can see, apart from the differences mentioned above, lists and dictionaries are actually used in a pretty similar way.\n",
    "\n",
    "One important thing to remember though, is that the syntax `dictionary[key] = value` can be used both to add elements to the dictionary and to modify them. If a key is not yet present in the dictionary, like in the examples above, then the new key and value will just be added to the dictionary. If, however, the key was already present in the dictionary, the old value will be *replaced* with the new value. This means there can never be two copies of the same key in a dictionary.\n",
    "\n",
    "Another useful bit of syntax we'll introduce here, is the `in` operator, which can be used to check whether a *key* is present in a dictionary. As the example above shows, you will get a *KeyError* when trying to retrieve a key that doesn't occur in the dictionary, and so first checking whether the key exists in the dictionary can prevent these type of errors.\n"
   ]
  },
  {
   "cell_type": "code",
   "execution_count": null,
   "metadata": {},
   "outputs": [],
   "source": [
    "# Replace the value for key 'world'\n",
    "d['world'] = 3\n",
    "\n",
    "# Retrieve the value for the key 'world'\n",
    "print(d['world'])\n",
    "\n",
    "# Print the whole dictionary\n",
    "print(d)\n",
    "\n",
    "# Check if the key 'hello' is present in the dictionary\n",
    "print('hello' in d)\n",
    "\n",
    "# Check if the key 'foo' is present in the dictionary\n",
    "print('foo' in d)\n",
    "\n",
    "# Try to retrieve several keys, which may or may not be in the dictionary\n",
    "for key in ['foo', 'hello', 'world', 'bar']:\n",
    "    if key in d:\n",
    "        print(f'{key}:, {d[key]}')\n",
    "    else:\n",
    "        print(f'The key \\'{key}\\' could not be found in the dictionary')\n"
   ]
  },
  {
   "cell_type": "markdown",
   "metadata": {},
   "source": [
    "The final thing we will introduce is the `get` function. `get()` can be used on any dictionary to get a value from it: `value = d.get(key)`. If the value is not in the dictionary, this function will by default return `None`, but when a second argument is given, this default value will change to the second argument."
   ]
  },
  {
   "cell_type": "code",
   "execution_count": null,
   "metadata": {},
   "outputs": [],
   "source": [
    "d = {'hello': 5, 'world': 9}\n",
    "\n",
    "# This has the exact same result\n",
    "print(d['hello'])\n",
    "print(d.get('hello'))\n",
    "\n",
    "# This returns the value None\n",
    "print(d.get('foo'))\n",
    "\n",
    "# We can however give a different \"default\" value\n",
    "print(d.get('foo', 100))\n",
    "\n",
    "# This might be useful in situations where you want to calculate a total\n",
    "total = 0\n",
    "for key in ['foo', 'hello', 'world', 'bar']:\n",
    "    # By setting the default value to 0, we make sure that keys that are not in the dictionary don't get counted\n",
    "    value = d.get(key, 0)\n",
    "    total += value\n",
    "    \n",
    "print(total)"
   ]
  },
  {
   "cell_type": "markdown",
   "metadata": {},
   "source": [
    "## Quick practice\n",
    "\n",
    "Below is an example dictionary containing some the names and corresponding student numbers of the students enrolled in a course. Write your own code after the dictionary is defined, in order to update the data and use the dictionary search for students numbers. Try to solve the following tasks:\n",
    "\n",
    "1. Add a new student to the course dictionary.\n",
    "\n",
    "2. Correct the student number for a student already enrolled in the course\n",
    "\n",
    "3. Try to find the student numbers for several students, some which may or may not be enrolled in the course yet. Make sure that this code does not produce any errors.\n"
   ]
  },
  {
   "cell_type": "code",
   "execution_count": null,
   "metadata": {},
   "outputs": [],
   "source": [
    "student_numbers = {'John': 5631, 'Mary': 2127, 'William': 8690}\n",
    "\n",
    "# TODO: Your code here\n"
   ]
  }
 ],
 "metadata": {
  "kernelspec": {
   "display_name": "Python 3",
   "language": "python",
   "name": "python3"
  },
  "language_info": {
   "codemirror_mode": {
    "name": "ipython",
    "version": 3
   },
   "file_extension": ".py",
   "mimetype": "text/x-python",
   "name": "python",
   "nbconvert_exporter": "python",
   "pygments_lexer": "ipython3",
   "version": "3.7.7"
  }
 },
 "nbformat": 4,
 "nbformat_minor": 4
}
